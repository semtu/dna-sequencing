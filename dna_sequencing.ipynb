{
 "cells": [
  {
   "cell_type": "markdown",
   "metadata": {},
   "source": [
    "# Question a"
   ]
  },
  {
   "cell_type": "code",
   "execution_count": 1,
   "metadata": {},
   "outputs": [],
   "source": [
    "def fraction(base, base_pair_sequence):\n",
    "    fractions=dict()\n",
    "    for i in range(0,len(base)):\n",
    "        fractions[base[i]]=base_pair_sequence.count(base[i])/len(base_pair_sequence)\n",
    "    print(fractions)"
   ]
  },
  {
   "cell_type": "code",
   "execution_count": 2,
   "metadata": {
    "tags": []
   },
   "outputs": [
    {
     "name": "stdout",
     "output_type": "stream",
     "text": [
      "{'C': 0.375, 'G': 0.25}\n"
     ]
    }
   ],
   "source": [
    "fraction(['C','G'], 'TGGACCCA')"
   ]
  },
  {
   "cell_type": "markdown",
   "metadata": {},
   "source": [
    "# Question b"
   ]
  },
  {
   "cell_type": "code",
   "execution_count": 3,
   "metadata": {
    "tags": []
   },
   "outputs": [],
   "source": [
    "def check_palindrome(nucleotide_sequence):\n",
    "    complement_list=list()\n",
    "    complement_dict={\"A\":\"T\",\"T\":\"A\",\"C\":\"G\",\"G\":\"C\"}\n",
    "    for iteration in nucleotide_sequence:\n",
    "        complement_list.append(complement_dict[iteration])\n",
    "    complement=''.join(complement_list)[::-1]\n",
    "\n",
    "    if nucleotide_sequence==complement:     \n",
    "        print('It is a palindrome')                  \n",
    "    else:                             \n",
    "        print('It is not a palindrome')"
   ]
  },
  {
   "cell_type": "code",
   "execution_count": 4,
   "metadata": {
    "tags": []
   },
   "outputs": [
    {
     "name": "stdout",
     "output_type": "stream",
     "text": [
      "It is a palindrome\n"
     ]
    }
   ],
   "source": [
    "check_palindrome(\"GGGCCC\") "
   ]
  }
 ],
 "metadata": {
  "kernelspec": {
   "display_name": "Python 3.8.5 64-bit",
   "name": "python_defaultSpec_1617633536318"
  },
  "language_info": {
   "codemirror_mode": {
    "name": "ipython",
    "version": 3
   },
   "file_extension": ".py",
   "mimetype": "text/x-python",
   "name": "python",
   "nbconvert_exporter": "python",
   "pygments_lexer": "ipython3",
   "version": "3.8.5-final"
  },
  "orig_nbformat": 2
 },
 "nbformat": 4,
 "nbformat_minor": 2
}
